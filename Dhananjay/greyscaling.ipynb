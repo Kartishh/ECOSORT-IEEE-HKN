{
 "cells": [
  {
   "cell_type": "code",
   "execution_count": 3,
   "metadata": {},
   "outputs": [],
   "source": [
    "import cv2\n",
    "import numpy as np"
   ]
  },
  {
   "cell_type": "code",
   "execution_count": 4,
   "metadata": {},
   "outputs": [],
   "source": [
    "img=cv2.imread(\"sam.jpg.\")\n",
    "kernel=np.ones((5,5),np.uint8)\n",
    "cv2.imshow('Original Image', img)"
   ]
  },
  {
   "cell_type": "code",
   "execution_count": 5,
   "metadata": {},
   "outputs": [],
   "source": [
    "imgGray=cv2.cvtColor(img,cv2.COLOR_BGR2GRAY)"
   ]
  },
  {
   "cell_type": "code",
   "execution_count": 6,
   "metadata": {},
   "outputs": [],
   "source": [
    "resized_img = cv2.resize(imgGray, (imgGray.shape[1]//10, imgGray.shape[0]//10))\n"
   ]
  },
  {
   "cell_type": "code",
   "execution_count": 7,
   "metadata": {},
   "outputs": [],
   "source": [
    "_, binary_image = cv2.threshold(imgGray, 127, 255, cv2.THRESH_BINARY)\n",
    "_, trunc_image = cv2.threshold(imgGray, 127, 255, cv2.THRESH_TRUNC)\n",
    "_, tozero_image = cv2.threshold(imgGray, 127, 255, cv2.THRESH_TOZERO)\n",
    "_, binary_inv_image = cv2.threshold(imgGray, 127, 255, cv2.THRESH_BINARY_INV)\n",
    "\n",
    "edges = cv2.Canny(img, 100, 200)"
   ]
  },
  {
   "cell_type": "code",
   "execution_count": 8,
   "metadata": {},
   "outputs": [],
   "source": [
    "cv2.imshow(\"edge\",edges)\n",
    "cv2.imshow('Binary Image', binary_image)\n",
    "cv2.imshow('trunc image', trunc_image)\n",
    "cv2.imshow('TOZERO Image', tozero_image)\n",
    "cv2.imshow('Binary Inverse Image', binary_inv_image)"
   ]
  },
  {
   "cell_type": "code",
   "execution_count": 9,
   "metadata": {},
   "outputs": [],
   "source": [
    "cv2.imshow(\"gray\",imgGray)\n",
    "cv2.imshow(\"real\",img)\n",
    "cv2.imshow(\"resize\",resized_img)"
   ]
  },
  {
   "cell_type": "code",
   "execution_count": 10,
   "metadata": {},
   "outputs": [
    {
     "data": {
      "text/plain": [
       "-1"
      ]
     },
     "execution_count": 10,
     "metadata": {},
     "output_type": "execute_result"
    }
   ],
   "source": [
    "cv2.waitKey(0)"
   ]
  },
  {
   "cell_type": "code",
   "execution_count": null,
   "metadata": {},
   "outputs": [],
   "source": []
  }
 ],
 "metadata": {
  "kernelspec": {
   "display_name": "stepsense",
   "language": "python",
   "name": "python3"
  },
  "language_info": {
   "codemirror_mode": {
    "name": "ipython",
    "version": 3
   },
   "file_extension": ".py",
   "mimetype": "text/x-python",
   "name": "python",
   "nbconvert_exporter": "python",
   "pygments_lexer": "ipython3",
   "version": "3.12.4"
  }
 },
 "nbformat": 4,
 "nbformat_minor": 2
}
